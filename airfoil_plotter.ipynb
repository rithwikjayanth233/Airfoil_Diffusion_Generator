{
 "cells": [
  {
   "cell_type": "code",
   "execution_count": null,
   "metadata": {},
   "outputs": [],
   "source": [
    "# function to plot the airfoils\n",
    "import torch\n",
    "import matplotlib.pyplot as plt\n",
    "\n",
    "\n",
    "def plot_airfoils(airfoil_x, airfoil_y):\n",
    "    '''\n",
    "    plot airfoils: no need to modify \n",
    "    '''\n",
    "    idx = 0\n",
    "    fig, ax = plt.subplots(nrows=4, ncols=4)\n",
    "    for row in ax:\n",
    "        for col in row:\n",
    "            col.scatter(airfoil_x, airfoil_y[idx, :], s=0.6, c='black')\n",
    "            col.axis('off')\n",
    "            col.axis('equal')\n",
    "            idx += 1\n",
    "    plt.show()"
   ]
  }
 ],
 "metadata": {
  "language_info": {
   "name": "python"
  }
 },
 "nbformat": 4,
 "nbformat_minor": 2
}
