{
 "cells": [
  {
   "cell_type": "markdown",
   "metadata": {},
   "source": [
    "# Use this to just create a list of the interpolated airfoil"
   ]
  },
  {
   "cell_type": "code",
   "execution_count": 47,
   "metadata": {},
   "outputs": [],
   "source": [
    "import numpy as np\n",
    "from scipy.interpolate import CubicSpline\n",
    "\n",
    "def interpolate_airfoil(file_path):\n",
    "    data = np.loadtxt(file_path, skiprows=1)\n",
    "    x = data[:, 0]\n",
    "    y = data[:, 1]\n",
    "\n",
    "    # Find index of leading edge (minimum x) to split data correctly\n",
    "    leading_edge_index = np.argmin(x)\n",
    "    \n",
    "    # Prepare the first and second halves\n",
    "    x1, y1 = x[:leading_edge_index+1][::-1], y[:leading_edge_index+1][::-1]\n",
    "    x2, y2 = x[leading_edge_index:], y[leading_edge_index:]\n",
    "\n",
    "    x_new1 = np.linspace(x1.min(), x1.max(), 100)\n",
    "    x_new2 = np.linspace(x2.min(), x2.max(), 100)\n",
    "\n",
    "    # Create cubic splines and interpolate\n",
    "    cs1 = CubicSpline(x1, y1)\n",
    "    cs2 = CubicSpline(x2, y2)\n",
    "\n",
    "    y_new1 = cs1(x_new1)\n",
    "    y_new2 = cs2(x_new2)\n",
    "\n",
    "    # Correctly combine the two halves: Ensure continuity and correct sequence\n",
    "    x_new_combined = np.concatenate([x_new1[:-1], x_new2])  # Avoid duplicating the leading edge\n",
    "    y_new_combined = np.concatenate([y_new1[:-1], y_new2])\n",
    "\n",
    "    interpolated_data = np.column_stack((x_new_combined, y_new_combined))\n",
    "    original_data = np.column_stack((x, y))\n",
    "\n",
    "    return interpolated_data, original_data\n"
   ]
  },
  {
   "cell_type": "markdown",
   "metadata": {},
   "source": [
    "# Use this to interpolate and save the airfoil to a new .dat file"
   ]
  },
  {
   "cell_type": "code",
   "execution_count": 2,
   "metadata": {},
   "outputs": [
    {
     "name": "stdout",
     "output_type": "stream",
     "text": [
      "Interpolated data saved to cleaned_airfoils/2032c_clean.dat\n"
     ]
    }
   ],
   "source": [
    "import os\n",
    "import numpy as np\n",
    "from scipy.interpolate import CubicSpline\n",
    "\n",
    "def interpolate_airfoil(file_path):\n",
    "    # Load the data, skipping the airfoil name\n",
    "    data = np.loadtxt(file_path, skiprows=1)\n",
    "    \n",
    "    # Extracting airfoil name from file path\n",
    "    airfoil_name = os.path.basename(file_path).replace('.dat', '')\n",
    "    \n",
    "    x = data[:, 0]\n",
    "    y = data[:, 1]\n",
    "\n",
    "    # Interpolating as before\n",
    "    leading_edge_index = np.argmin(x)\n",
    "    x1, y1 = x[:leading_edge_index+1][::-1], y[:leading_edge_index+1][::-1]\n",
    "    x2, y2 = x[leading_edge_index:], y[leading_edge_index:]\n",
    "\n",
    "    x_new1 = np.linspace(x1.min(), x1.max(), 100)\n",
    "    x_new2 = np.linspace(x2.min(), x2.max(), 100)\n",
    "\n",
    "    cs1 = CubicSpline(x1, y1)\n",
    "    cs2 = CubicSpline(x2, y2)\n",
    "\n",
    "    y_new1 = cs1(x_new1)\n",
    "    y_new2 = cs2(x_new2)\n",
    "\n",
    "    x_new_combined = np.concatenate([x_new1[:-1], x_new2])\n",
    "    y_new_combined = np.concatenate([y_new1[:-1], y_new2])\n",
    "\n",
    "    interpolated_data = np.column_stack((x_new_combined, y_new_combined))\n",
    "    \n",
    "    # Original data, for comparison or other purposes\n",
    "    original_data = np.column_stack((x, y))\n",
    "\n",
    "    # Creating the output path\n",
    "    output_folder = 'cleaned_airfoils'\n",
    "    os.makedirs(output_folder, exist_ok=True)\n",
    "    output_file_path = os.path.join(output_folder, f\"{airfoil_name}_clean.dat\")\n",
    "    \n",
    "    # Saving the interpolated data\n",
    "    np.savetxt(output_file_path, interpolated_data, fmt='%0.8f', header='', comments='')\n",
    "\n",
    "    return interpolated_data, original_data, output_file_path\n",
    "\n",
    "# Example usage\n",
    "file_path = 'coord_seligFmt/2032c.dat'\n",
    "interpolated_data, original_data, output_file_path = interpolate_airfoil(file_path)\n",
    "\n",
    "print(f\"Interpolated data saved to {output_file_path}\")\n"
   ]
  },
  {
   "cell_type": "code",
   "execution_count": 48,
   "metadata": {},
   "outputs": [],
   "source": [
    "# function to plot the interpolated airfoil\n",
    "def plot_interpolated_airfoil(interpolated_list, original_list):\n",
    "    plt.scatter(original_list[:,0], original_list[:,1], s=.6, c='r')\n",
    "    plt.scatter(interpolated_list[:,0], interpolated_list[:,1], s=.6, c='b')\n",
    "    plt.axis('equal')\n",
    "    plt.axis('off')\n",
    "    plt.legend(['Original Airfoil', 'Interpolated Airfoil'])\n",
    "    plt.show()"
   ]
  },
  {
   "cell_type": "code",
   "execution_count": 49,
   "metadata": {},
   "outputs": [
    {
     "data": {
      "image/png": "[encoded data removed]",
      "text/plain": [
       "<Figure size 640x480 with 1 Axes>"
      ]
     },
     "metadata": {},
     "output_type": "display_data"
    },
    {
     "name": "stdout",
     "output_type": "stream",
     "text": [
      "interpolated shape:  (201, 2)\n"
     ]
    }
   ],
   "source": [
    "a18_airfoil_interp, a18_airfoil_original = interpolate_airfoil(\"coord_seligFmt/a18.dat\")\n",
    "#plot_interpolated_airfoil(a18_airfoil)\n",
    "plot_interpolated_airfoil(a18_airfoil_interp, a18_airfoil_original)\n",
    "print(\"interpolated shape: \", a18_airfoil_interp.shape)"
   ]
  },
  {
   "cell_type": "code",
   "execution_count": 46,
   "metadata": {},
   "outputs": [
    {
     "data": {
      "image/png": "[encoded data removed]",
      "text/plain": [
       "<Figure size 640x480 with 1 Axes>"
      ]
     },
     "metadata": {},
     "output_type": "display_data"
    },
    {
     "name": "stdout",
     "output_type": "stream",
     "text": [
      "interpolated shape:  (199, 2)\n"
     ]
    }
   ],
   "source": [
    "a63a108c_airfoil_interp, a63a108c_airfoil = interpolate_airfoil(\"coord_seligFmt/a63a108c.dat\")\n",
    "plot_interpolated_airfoil(a63a108c_airfoil_interp,a63a108c_airfoil)\n",
    "print(\"interpolated shape: \", a63a108c_airfoil_interp.shape)"
   ]
  },
  {
   "cell_type": "code",
   "execution_count": null,
   "metadata": {},
   "outputs": [],
   "source": []
  },
  {
   "cell_type": "code",
   "execution_count": null,
   "metadata": {},
   "outputs": [],
   "source": []
  }
 ],
 "metadata": {
  "kernelspec": {
   "display_name": "base",
   "language": "python",
   "name": "python3"
  },
  "language_info": {
   "codemirror_mode": {
    "name": "ipython",
    "version": 3
   },
   "file_extension": ".py",
   "mimetype": "text/x-python",
   "name": "python",
   "nbconvert_exporter": "python",
   "pygments_lexer": "ipython3",
   "version": "3.11.7"
  }
 },
 "nbformat": 4,
 "nbformat_minor": 2
}
